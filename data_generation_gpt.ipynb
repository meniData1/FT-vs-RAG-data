{
 "cells": [
  {
   "cell_type": "code",
   "execution_count": 3,
   "metadata": {
    "ExecuteTime": {
     "end_time": "2023-11-28T11:26:05.642372Z",
     "start_time": "2023-11-28T11:26:05.049279400Z"
    }
   },
   "outputs": [],
   "source": [
    "import os\n",
    "import json\n",
    "\n",
    "import pandas as pd\n",
    "import openai\n",
    "import random\n",
    "from tqdm import tqdm\n",
    "from dotenv import load_dotenv\n",
    "tqdm.pandas()\n",
    "load_dotenv()\n",
    "random.seed(42)"
   ]
  },
  {
   "cell_type": "code",
   "execution_count": 4,
   "metadata": {
    "ExecuteTime": {
     "end_time": "2023-11-28T11:26:05.642372Z",
     "start_time": "2023-11-28T11:26:05.610782800Z"
    }
   },
   "outputs": [],
   "source": [
    "CHUNK_SIZE = 10\n",
    "NUM_QUESTIONS_PER_CHUNK = 4"
   ]
  },
  {
   "cell_type": "code",
   "execution_count": 5,
   "metadata": {
    "ExecuteTime": {
     "end_time": "2023-11-28T11:26:05.957375800Z",
     "start_time": "2023-11-28T11:26:05.941316100Z"
    }
   },
   "outputs": [],
   "source": [
    "OPENAI_API_KEY = os.getenv(\"GPT4_OPENAI_API_KEY\")\n",
    "OPENAI_DEPLOYMENT_ENDPOINT = os.getenv(\"GPT4_OPENAI_ENDPOINT\")\n",
    "OPENAI_DEPLOYMENT_NAME = os.getenv(\"GPT4_DEPLOYMENT_NAME\")\n",
    "OPENAI_DEPLOYMENT_VERSION = os.getenv(\"GPT4_DEPLOYMENT_VERSION\")\n",
    "\n",
    "openai.api_type = 'azure'\n",
    "openai.api_version = OPENAI_DEPLOYMENT_VERSION\n",
    "openai.api_base = OPENAI_DEPLOYMENT_ENDPOINT\n",
    "openai.api_key = OPENAI_API_KEY"
   ]
  },
  {
   "cell_type": "code",
   "execution_count": 6,
   "metadata": {
    "ExecuteTime": {
     "end_time": "2023-11-28T11:26:07.206736500Z",
     "start_time": "2023-11-28T11:26:07.175319800Z"
    }
   },
   "outputs": [],
   "source": [
    "OPENAI_DEPLOYMENT_NAME = \"GPT-4-1106-Preview\""
   ]
  },
  {
   "cell_type": "code",
   "execution_count": 7,
   "metadata": {
    "ExecuteTime": {
     "end_time": "2023-11-28T11:26:07.958025400Z",
     "start_time": "2023-11-28T11:26:07.958025400Z"
    }
   },
   "outputs": [],
   "source": [
    "meta_prompt = \"\"\"\\\n",
    "Context information is below.\\n\n",
    "Given the context information and no prior knowledge.\\n\n",
    "Generate only questions based on the below query.\\n\n",
    "The context of each question should be easily inferred by reading the question. If you are referring to a specific event, mention the exact name and date of the event.\\n\n",
    "\n",
    "You are a Teacher/ Professor. Your task is to setup \\\n",
    "{num_questions_per_chunk} multiple-choice questions for an upcoming \\\n",
    "quiz/examination. The questions should be diverse in nature \\\n",
    "across the document. Do not repeat the same question twice. Restrict the questions to the \\\n",
    "context information provided. Each question should have exactly four possible answers. Only one answer should be correct. \\\n",
    "Your reply must be a single number (0, 1, 2, or 3) related to the correct answer. \\ \n",
    "Return a JSON formatted string with the following fields: \\\n",
    "question, possible_answers, correct_answer. \\\n",
    "\"\"\"\n",
    "\n",
    "context_prompt = \"\"\"---------------------\\n{context_str}\\n---------------------\\n\\\n",
    "Each question key should have and index value, given by the following list: {question_indices}.\\\n",
    "\"\"\"\n",
    "\n",
    "num_questions_per_chunk = 4\n",
    "question_indices = [\"Q_23\", \"Q_16254\", \"Q_224\", \"Q_3\"]\n",
    "context_str = \"The 2023 NBA playoffs was the postseason tournament of the National Basketball Association's 2022–23 season. \\\n",
    "The playoffs began on April 15 and concluded on June 12 with the Denver Nuggets winning the 2023 NBA Finals.\"\n",
    "\n",
    "message= [{\"role\": \"system\", \"content\": meta_prompt.format(num_questions_per_chunk=num_questions_per_chunk)},\n",
    "          {\"role\": \"user\", \"content\": context_prompt.format(context_str=context_str, question_indices=question_indices)}]"
   ]
  },
  {
   "cell_type": "code",
   "execution_count": 6,
   "metadata": {
    "ExecuteTime": {
     "end_time": "2023-11-28T10:10:09.121706200Z",
     "start_time": "2023-11-28T10:10:09.088973300Z"
    }
   },
   "outputs": [],
   "source": [
    "from openai import AzureOpenAI\n",
    "client = AzureOpenAI(\n",
    "  azure_endpoint=OPENAI_DEPLOYMENT_ENDPOINT, \n",
    "  api_key=OPENAI_API_KEY,  \n",
    "  api_version=\"2023-12-01-preview\"\n",
    ")"
   ]
  },
  {
   "cell_type": "code",
   "execution_count": 7,
   "metadata": {
    "ExecuteTime": {
     "end_time": "2023-11-28T10:10:19.510304Z",
     "start_time": "2023-11-28T10:10:09.523660100Z"
    }
   },
   "outputs": [],
   "source": [
    "response = client.chat.completions.create(\n",
    "    model=OPENAI_DEPLOYMENT_NAME,\n",
    "    response_format={\"type\": \"json_object\"},\n",
    "    messages=message)"
   ]
  },
  {
   "cell_type": "markdown",
   "metadata": {},
   "source": [
    "## Load full data"
   ]
  },
  {
   "cell_type": "code",
   "execution_count": 8,
   "metadata": {},
   "outputs": [
    {
     "data": {
      "text/html": [
       "<div>\n",
       "<style scoped>\n",
       "    .dataframe tbody tr th:only-of-type {\n",
       "        vertical-align: middle;\n",
       "    }\n",
       "\n",
       "    .dataframe tbody tr th {\n",
       "        vertical-align: top;\n",
       "    }\n",
       "\n",
       "    .dataframe thead th {\n",
       "        text-align: right;\n",
       "    }\n",
       "</style>\n",
       "<table border=\"1\" class=\"dataframe\">\n",
       "  <thead>\n",
       "    <tr style=\"text-align: right;\">\n",
       "      <th></th>\n",
       "      <th>prefix</th>\n",
       "      <th>text</th>\n",
       "    </tr>\n",
       "  </thead>\n",
       "  <tbody>\n",
       "    <tr>\n",
       "      <th>0</th>\n",
       "      <td>### Article: 2023 Louisiana wildfires.\\n### Se...</td>\n",
       "      <td>In a three-month period from August to October...</td>\n",
       "    </tr>\n",
       "    <tr>\n",
       "      <th>1</th>\n",
       "      <td>### Article: 2023 Louisiana wildfires.\\n### Se...</td>\n",
       "      <td>On August 22, a fire started in Beauregard Par...</td>\n",
       "    </tr>\n",
       "    <tr>\n",
       "      <th>2</th>\n",
       "      <td>### Article: 2023 Louisiana wildfires.\\n### Se...</td>\n",
       "      <td>On August 24, a fire described as \"out of cont...</td>\n",
       "    </tr>\n",
       "    <tr>\n",
       "      <th>3</th>\n",
       "      <td>### Article: 2023 Louisiana wildfires.\\n### Se...</td>\n",
       "      <td>The Federal Emergency Management Agency approv...</td>\n",
       "    </tr>\n",
       "    <tr>\n",
       "      <th>4</th>\n",
       "      <td>### Article: United States abortion protests (...</td>\n",
       "      <td>A series of ongoing protests supporting aborti...</td>\n",
       "    </tr>\n",
       "    <tr>\n",
       "      <th>...</th>\n",
       "      <td>...</td>\n",
       "      <td>...</td>\n",
       "    </tr>\n",
       "    <tr>\n",
       "      <th>680</th>\n",
       "      <td>### Article: 2023 Virginia Senate election.\\n#...</td>\n",
       "      <td>Five incumbent senators, four Democrats and on...</td>\n",
       "    </tr>\n",
       "    <tr>\n",
       "      <th>681</th>\n",
       "      <td>### Article: 2023 Virginia Senate election.\\n#...</td>\n",
       "      <td>District 21: Won by State Delegate Angelia Wil...</td>\n",
       "    </tr>\n",
       "    <tr>\n",
       "      <th>682</th>\n",
       "      <td>### Article: 2023 Virginia Senate election.\\n#...</td>\n",
       "      <td>District 1: Won by farmer Timmy French\\nDistri...</td>\n",
       "    </tr>\n",
       "    <tr>\n",
       "      <th>683</th>\n",
       "      <td>### Article: 2023 Virginia Senate election.\\n#...</td>\n",
       "      <td>Incumbent Republican Jen Kiggans, first electe...</td>\n",
       "    </tr>\n",
       "    <tr>\n",
       "      <th>684</th>\n",
       "      <td>### Article: 2023 Virginia Senate election.\\n#...</td>\n",
       "      <td>Democrat Jennifer McClellan, first elected in ...</td>\n",
       "    </tr>\n",
       "  </tbody>\n",
       "</table>\n",
       "<p>685 rows × 2 columns</p>\n",
       "</div>"
      ],
      "text/plain": [
       "                                                prefix  \\\n",
       "0    ### Article: 2023 Louisiana wildfires.\\n### Se...   \n",
       "1    ### Article: 2023 Louisiana wildfires.\\n### Se...   \n",
       "2    ### Article: 2023 Louisiana wildfires.\\n### Se...   \n",
       "3    ### Article: 2023 Louisiana wildfires.\\n### Se...   \n",
       "4    ### Article: United States abortion protests (...   \n",
       "..                                                 ...   \n",
       "680  ### Article: 2023 Virginia Senate election.\\n#...   \n",
       "681  ### Article: 2023 Virginia Senate election.\\n#...   \n",
       "682  ### Article: 2023 Virginia Senate election.\\n#...   \n",
       "683  ### Article: 2023 Virginia Senate election.\\n#...   \n",
       "684  ### Article: 2023 Virginia Senate election.\\n#...   \n",
       "\n",
       "                                                  text  \n",
       "0    In a three-month period from August to October...  \n",
       "1    On August 22, a fire started in Beauregard Par...  \n",
       "2    On August 24, a fire described as \"out of cont...  \n",
       "3    The Federal Emergency Management Agency approv...  \n",
       "4    A series of ongoing protests supporting aborti...  \n",
       "..                                                 ...  \n",
       "680  Five incumbent senators, four Democrats and on...  \n",
       "681  District 21: Won by State Delegate Angelia Wil...  \n",
       "682  District 1: Won by farmer Timmy French\\nDistri...  \n",
       "683  Incumbent Republican Jen Kiggans, first electe...  \n",
       "684  Democrat Jennifer McClellan, first elected in ...  \n",
       "\n",
       "[685 rows x 2 columns]"
      ]
     },
     "execution_count": 8,
     "metadata": {},
     "output_type": "execute_result"
    }
   ],
   "source": [
    "df = pd.read_csv(\"wiki_data/wiki_events_aug-nov_2023.csv\", index_col=0)\n",
    "df.fillna(\"None\", inplace=True)\n",
    "df['text_len'] = df['text'].str.len()\n",
    "df = df[df['text_len'] > 100]\n",
    "\n",
    "df['prefix'] = (\"### Article: \" + df['topic_name'] + \".\\n\" +\n",
    "                \"### Section: \" + df['section'] + \".\\n\" +\n",
    "                \"### Subsection: \" + df['subsection'] + \".\\n\" +\n",
    "                \"### Text: \")\n",
    "df = df[['prefix', 'text']]\n",
    "df.reset_index(inplace=True, drop=True)\n",
    "df"
   ]
  },
  {
   "cell_type": "code",
   "execution_count": 9,
   "metadata": {},
   "outputs": [
    {
     "name": "stderr",
     "output_type": "stream",
     "text": [
      "100%|██████████| 685/685 [00:00<00:00, 140851.96it/s]\n"
     ]
    }
   ],
   "source": [
    "df_dict = df.to_dict(orient='records')\n",
    "corpus = []\n",
    "\n",
    "for row in tqdm(df_dict):\n",
    "    sentences = row['text'].split(\".\")\n",
    "    sentences = [s.strip() + '.' for s in sentences if len(s) > 0]\n",
    "    chunks = [sentences[i:i + CHUNK_SIZE] for i in range(0, len(sentences), CHUNK_SIZE)]\n",
    "    chunks = [' '.join(chunk).strip() for chunk in chunks]\n",
    "    \n",
    "    # Limit the number of chunks for each article to 2\n",
    "    if len(chunks) > 2:\n",
    "        chunks = random.sample(chunks, 2)\n",
    "    \n",
    "    # Adding the prefix to each chunk\n",
    "    chunks = [row['prefix'] + chunk for chunk in chunks]\n",
    "    corpus.extend(chunks)"
   ]
  },
  {
   "cell_type": "markdown",
   "metadata": {},
   "source": [
    "## Generating the dataset"
   ]
  },
  {
   "cell_type": "code",
   "execution_count": 12,
   "metadata": {},
   "outputs": [
    {
     "name": "stderr",
     "output_type": "stream",
     "text": [
      "100%|██████████| 938/938 [26:02<00:00,  1.67s/it]\n"
     ]
    }
   ],
   "source": [
    "count = 0\n",
    "json_path = 'current_events_questions.json'\n",
    "\n",
    "for chunk in tqdm(corpus):\n",
    "    question_indices = [f\"Q_{i}\" for i in range(count*NUM_QUESTIONS_PER_CHUNK, (count+1)*NUM_QUESTIONS_PER_CHUNK)]\n",
    "    message= [{\"role\": \"system\", \"content\": meta_prompt.format(num_questions_per_chunk=NUM_QUESTIONS_PER_CHUNK)},\n",
    "              {\"role\": \"user\", \"content\": context_prompt.format(context_str=chunk, question_indices=question_indices)}]\n",
    "    \n",
    "    try:\n",
    "        response = client.chat.completions.create(\n",
    "            model=OPENAI_DEPLOYMENT_NAME,\n",
    "            response_format={\"type\": \"json_object\"},\n",
    "            messages=message)\n",
    "    except:\n",
    "        print(f\"Error in generating questions for chunk number: {count}\")\n",
    "        print(f\"Chunk: {chunk}\")\n",
    "        continue\n",
    "    \n",
    "    json_response = response.choices[0].message.content\n",
    "    python_dict = json.loads(json_response)\n",
    "    for q in python_dict.keys():\n",
    "        python_dict[q]['context'] = chunk\n",
    "    \n",
    "    if count > 0:\n",
    "        with open(json_path, 'r') as json_file:\n",
    "            json_dict = json.load(json_file)\n",
    "        json_dict.update(python_dict)\n",
    "    else:\n",
    "        json_dict = python_dict\n",
    "    \n",
    "    if len(json_dict) > 0:\n",
    "        with open(json_path, 'w') as json_file:\n",
    "            json.dump(json_dict, json_file)\n",
    "    \n",
    "    count += 1"
   ]
  },
  {
   "cell_type": "markdown",
   "source": [
    "## Correcting the dataset\n",
    "Keeps only specific questions"
   ],
   "metadata": {
    "collapsed": false
   }
  },
  {
   "cell_type": "code",
   "execution_count": 8,
   "outputs": [],
   "source": [
    "questions_dataset = pd.read_json('../../data/current_events_questions.json').T"
   ],
   "metadata": {
    "collapsed": false,
    "ExecuteTime": {
     "end_time": "2023-11-28T11:26:16.670432400Z",
     "start_time": "2023-11-28T11:26:15.941385700Z"
    }
   }
  },
  {
   "cell_type": "code",
   "execution_count": 9,
   "outputs": [],
   "source": [
    "questions_dataset['context_num'] = pd.factorize(questions_dataset['context'])[0]"
   ],
   "metadata": {
    "collapsed": false,
    "ExecuteTime": {
     "end_time": "2023-11-28T11:26:16.670432400Z",
     "start_time": "2023-11-28T11:26:16.670432400Z"
    }
   }
  },
  {
   "cell_type": "code",
   "execution_count": 17,
   "outputs": [],
   "source": [
    "meta_prompt = \"\"\"\\\n",
    "Context information is below.\\n\n",
    "A number of multiple choice questions are given for this context. Your job is to select the **2** most specific questions, and return them, as is (i.e., do not change their content or format), in their json format.\\n\n",
    "We define specific to mean that a student who knows the information included in the context should be able to answer the question without knowing which context the question refers to. Questions that are more knowledge intensive are better.\\\n",
    "If none are specific, return an empty dictionary.\\n\n",
    "If only **1** is specific, return only **1**.\\\n",
    "If more than **2** are specific, return only the top 2.\"\"\"\n",
    "\n",
    "user_example1 = \"\"\"\\\n",
    "Context: \"### Article: 2023 Louisiana wildfires.\\\\n### Section: Response.\\\\n### Subsection: None.\\\\n### Text: The Federal Emergency Management Agency approved the Fire Management Assistance Grant in Beauregard Parish. The American Red Cross assisted with relief efforts, and the United States Army Blackhawk helicopters assisted with firefighting operations. Assistance also came from Texas, Oklahoma, Arkansas, and Tennessee, and 161 bulldozers from the National Guard were deployed. A Boeing CH-47 Chinook was also deployed to help with efforts to drop water onto the fires; at least 161,000 gallons of water were dropped from the CH-47. Four strike teams were to arrive from Florida with 160 firefighters and 20 bulldozers. Merryville, Louisiana was under a mandatory evacuation order that has since been lifted. Emergency operations centers were activated on August 23, and a church was opened for a temporary shelter in DeRidder, Louisiana. On August 25, Texas governor Greg Abbott announced that firefighters and emergency personnel would be dispatched to Merryville, Louisiana to assist in firefighting efforts. More than 200 Louisiana National Guard troops were  dispatched to assist in firefighting efforts. Louisiana governor John Bel Edwards stated that \\\\\"Nobody alive in Louisiana has ever seen these conditions.\" \\n\n",
    "Questions: '{\"Q_16\":{\"question\":\"Which agency approved the Fire Management Assistance Grant for Beauregard Parish during the 2023 Louisiana wildfires?\",\"possible_answers\":[\"The American Red Cross\",\"The United States Army\",\"The Federal Emergency Management Agency\",\"The Louisiana National Guard\"],\"correct_answer\":\"2\"},\"Q_17\":{\"question\":\"What type of aircraft was deployed to drop water onto the fires during the 2023 Louisiana wildfires?\",\"possible_answers\":[\"Boeing 747\",\"Boeing CH-47 Chinook\",\"Lockheed C-130 Hercules\",\"Blackhawk helicopter\"],\"correct_answer\":\"1\"},\"Q_18\":{\"question\":\"How many gallons of water were dropped from the CH-47 during the firefighting efforts of the 2023 Louisiana wildfires?\",\"possible_answers\":[\"Approximately 161,000 gallons\",\"Around 200,000 gallons\",\"Nearly 100,000 gallons\",\"Over 250,000 gallons\"],\"correct_answer\":\"0\"},\"Q_19\":{\"question\":\"Which governor announced the dispatch of firefighters and emergency personnel to Merryville, Louisiana on August 25 during the 2023 Louisiana wildfires?\",\"possible_answers\":[\"Governor of Arkansas\",\"Governor of Texas\",\"Governor of Tennessee\",\"Governor of Louisiana\"],\"correct_answer\":\"1\"}}'\n",
    "\"\"\"\n",
    "\n",
    "\n",
    "ai_answer_example_1 = \"\"\"\\\n",
    "'{\"Q_16\":{\"question\":\"Which agency approved the Fire Management Assistance Grant for Beauregard Parish during the 2023 Louisiana wildfires?\",\"possible_answers\":[\"The American Red Cross\",\"The United States Army\",\"The Federal Emergency Management Agency\",\"The Louisiana National Guard\"],\"correct_answer\":\"2\"}, \"Q_19\":{\"question\":\"Which governor announced the dispatch of firefighters and emergency personnel to Merryville, Louisiana on August 25 during the 2023 Louisiana wildfires?\",\"possible_answers\":[\"Governor of Arkansas\",\"Governor of Texas\",\"Governor of Tennessee\",\"Governor of Louisiana\"],\"correct_answer\":\"1\"}}'\n",
    "\"\"\"\n",
    "\n",
    "user_example_2 = \"\"\"\\\n",
    "Context: \"### Article: August 2023 Ohio Issue 1.\\\\n### Section: Turnout and outcome.\\\\n### Subsection: None.\\\\n### Text: EDT. .\" \\n\n",
    "Questions: '{\"Q_164\":{\"question\":\"What is the timezone mentioned in the context for the event?\",\"possible_answers\":[\"PDT\",\"EDT\",\"CST\",\"EST\"],\"correct_answer\":\"1\"},\"Q_165\":{\"question\":\"Which issue is the article related to?\",\"possible_answers\":[\"Ohio Issue 1\",\"Ohio Issue 2\",\"Ohio Issue 3\",\"Ohio Issue 4\"],\"correct_answer\":\"0\"},\"Q_166\":{\"question\":\"In what month and year is the event taking place?\",\"possible_answers\":[\"July 2023\",\"August 2023\",\"September 2023\",\"October 2023\"],\"correct_answer\":\"1\"},\"Q_167\":{\"question\":\"What is the main subject of the article?\",\"possible_answers\":[\"A festival\",\"A state issue\",\"A city council meeting\",\"A sports event\"],\"correct_answer\":\"1\"}}'\n",
    "\"\"\"\n",
    "\n",
    "ai_answer_example_2 = \"{}\"\n",
    "\n",
    "user_prompt = \"\"\"\\\n",
    "Context: {context}\\n\n",
    "Questions: {questions} \n",
    "\"\"\"\n",
    "\n",
    "example_context = \"\"\"\\\n",
    "\"### Article: Federal prosecution of Donald Trump (election obstruction case).\\\\n### Section: Reactions.\\\\n### Subsection: Democrats in support of the indictment.\\\\n### Text: Senate Majority Leader Chuck Schumer in a joint statement with House Democratic Leader Hakeem Jeffries said \\\\\"No one is above the law \\\\u2013 including Donald Trump\\\\\". House members Nancy Pelosi, Joaquin Castro and Rashida Tlaib also came out in support of the indictment.\"\n",
    "\"\"\"\n",
    "\n",
    "example_questions = \"\"\"\\\n",
    "'{\"Q_256\":{\"question\":\"Who made the joint statement \\'No one is above the law \\\\u2013 including Donald Trump\\'?\",\"possible_answers\":[\"Nancy Pelosi and Joaquin Castro\",\"Chuck Schumer and Hakeem Jeffries\",\"Rashida Tlaib and Nancy Pelosi\",\"Chuck Schumer and Nancy Pelosi\"],\"correct_answer\":\"1\"},\"Q_257\":{\"question\":\"Which position is currently held by Chuck Schumer?\",\"possible_answers\":[\"House Democratic Leader\",\"Senate Majority Leader\",\"Speaker of the House\",\"House Majority Whip\"],\"correct_answer\":\"1\"},\"Q_258\":{\"question\":\"Which of the following individuals did not express support for the indictment?\",\"possible_answers\":[\"Joaquin Castro\",\"Hakeem Jeffries\",\"Rashida Tlaib\",\"Nancy Pelosi\"],\"correct_answer\":\"1\"},\"Q_259\":{\"question\":\"How many House members were mentioned to support the indictment?\",\"possible_answers\":[\"One\",\"Two\",\"Three\",\"Four\"],\"correct_answer\":\"2\"}}'\n",
    "\"\"\"\n",
    "\n",
    "message= [{\"role\": \"system\", \"content\": meta_prompt},\n",
    "          {\"role\": \"user\", \"content\": user_example1}, {\"role\": \"assistant\", \"content\": ai_answer_example_1},\n",
    "          {\"role\": \"user\", \"content\": user_example_2}, {\"role\": \"assistant\", \"content\": ai_answer_example_2},\n",
    "          {\"role\": \"user\", \"content\": user_prompt.format(context=example_context, questions=example_questions)}]"
   ],
   "metadata": {
    "collapsed": false,
    "ExecuteTime": {
     "end_time": "2023-11-28T11:26:22.188982900Z",
     "start_time": "2023-11-28T11:26:22.188982900Z"
    }
   }
  },
  {
   "cell_type": "code",
   "execution_count": 18,
   "outputs": [],
   "source": [
    "from openai import AzureOpenAI\n",
    "client = AzureOpenAI(\n",
    "  azure_endpoint=OPENAI_DEPLOYMENT_ENDPOINT, \n",
    "  api_key=OPENAI_API_KEY,  \n",
    "  api_version=\"2023-12-01-preview\"\n",
    ")"
   ],
   "metadata": {
    "collapsed": false,
    "ExecuteTime": {
     "end_time": "2023-11-28T11:26:23.097690300Z",
     "start_time": "2023-11-28T11:26:23.059767700Z"
    }
   }
  },
  {
   "cell_type": "code",
   "execution_count": 19,
   "outputs": [],
   "source": [
    "response = client.chat.completions.create(\n",
    "    model=OPENAI_DEPLOYMENT_NAME,\n",
    "    response_format={\"type\": \"json_object\"},\n",
    "    messages=message)"
   ],
   "metadata": {
    "collapsed": false,
    "ExecuteTime": {
     "end_time": "2023-11-28T11:26:27.045997300Z",
     "start_time": "2023-11-28T11:26:24.047591400Z"
    }
   }
  },
  {
   "cell_type": "code",
   "execution_count": 39,
   "outputs": [
    {
     "name": "stderr",
     "output_type": "stream",
     "text": [
      "100%|██████████| 749/749 [2:26:59<00:00, 11.78s/it]  \n"
     ]
    }
   ],
   "source": [
    "responses = {}\n",
    "\n",
    "for ii in tqdm(range(questions_dataset.context_num.nunique())):\n",
    "    try:\n",
    "        data = questions_dataset[questions_dataset.context_num==ii]\n",
    "        cur_context = list(questions_dataset[questions_dataset.context_num==ii].context.drop_duplicates().to_dict().values())[0]\n",
    "        cur_questions = questions_dataset[questions_dataset.context_num==ii].drop(columns=['context', 'context_num']).T.to_json()\n",
    "        message= [{\"role\": \"system\", \"content\": meta_prompt},\n",
    "              {\"role\": \"user\", \"content\": user_example1}, {\"role\": \"assistant\", \"content\": ai_answer_example_1},\n",
    "              {\"role\": \"user\", \"content\": user_example_2}, {\"role\": \"assistant\", \"content\": ai_answer_example_2},\n",
    "              {\"role\": \"user\", \"content\": user_prompt.format(context=cur_context, questions=cur_questions)}]\n",
    "        response = client.chat.completions.create(\n",
    "        model=OPENAI_DEPLOYMENT_NAME,\n",
    "        response_format={\"type\": \"json_object\"},\n",
    "        messages=message)\n",
    "        response = eval(response.choices[0].message.content)\n",
    "        for q in response.keys():\n",
    "            response[q]['context'] = cur_context\n",
    "        responses.update(response)\n",
    "    except Exception as e:\n",
    "        print(e)\n",
    "        print(f'Failed on context number {ii}')\n"
   ],
   "metadata": {
    "collapsed": false,
    "ExecuteTime": {
     "end_time": "2023-11-28T14:08:19.269718300Z",
     "start_time": "2023-11-28T11:41:19.385546200Z"
    }
   }
  },
  {
   "cell_type": "code",
   "execution_count": 42,
   "outputs": [],
   "source": [
    "updated_dataset = pd.DataFrame(responses).T"
   ],
   "metadata": {
    "collapsed": false,
    "ExecuteTime": {
     "end_time": "2023-11-28T14:14:54.293902800Z",
     "start_time": "2023-11-28T14:14:54.293902800Z"
    }
   }
  },
  {
   "cell_type": "code",
   "execution_count": 45,
   "outputs": [
    {
     "data": {
      "text/plain": "                                                 question  \\\nQ_2     What was the name of the largest wildfire reco...   \nQ_3     Which Parish received an assistance grant from...   \nQ_4     What was the cause of the 2023 Louisiana wildf...   \nQ_5     On what date was the Tiger Island fire in 2023...   \nQ_8     What percentage of the Tiger Island fire was c...   \n...                                                   ...   \nQ_3741  Which newly created district in the 2023 Virgi...   \nQ_3744  In which year was Jen Kiggans first elected to...   \nQ_3745  What position did Jen Kiggans resign from to b...   \nQ_3748  In what year was Jennifer McClellan first elec...   \nQ_3750  Who won the special election for Virginia Sena...   \n\n                                         possible_answers correct_answer  \\\nQ_2     [Beauregard Blaze, Merryville Inferno, Singer ...              3   \nQ_3     [Caddo Parish, Beauregard Parish, Livingston P...              1   \nQ_4     [Lightning, Arson, Electrical fault, Accidenta...              1   \nQ_5          [August 22, August 25, August 27, August 29]              2   \nQ_8                                  [45%, 55%, 65%, 75%]              2   \n...                                                   ...            ...   \nQ_3741  [District 1, District 3, District 10, District...              1   \nQ_3744                           [2017, 2018, 2019, 2020]              2   \nQ_3745  [Virginia State Senator, Virginia Governor, U....              0   \nQ_3748                           [2015, 2016, 2017, 2018]              2   \nQ_3750  [Jennifer McClellan, Lamont Bagby, A Republica...              1   \n\n                                                  context  \nQ_2     ### Article: 2023 Louisiana wildfires.\\n### Se...  \nQ_3     ### Article: 2023 Louisiana wildfires.\\n### Se...  \nQ_4     ### Article: 2023 Louisiana wildfires.\\n### Se...  \nQ_5     ### Article: 2023 Louisiana wildfires.\\n### Se...  \nQ_8     ### Article: 2023 Louisiana wildfires.\\n### Se...  \n...                                                   ...  \nQ_3741  ### Article: 2023 Virginia Senate election.\\n#...  \nQ_3744  ### Article: 2023 Virginia Senate election.\\n#...  \nQ_3745  ### Article: 2023 Virginia Senate election.\\n#...  \nQ_3748  ### Article: 2023 Virginia Senate election.\\n#...  \nQ_3750  ### Article: 2023 Virginia Senate election.\\n#...  \n\n[1496 rows x 4 columns]",
      "text/html": "<div>\n<style scoped>\n    .dataframe tbody tr th:only-of-type {\n        vertical-align: middle;\n    }\n\n    .dataframe tbody tr th {\n        vertical-align: top;\n    }\n\n    .dataframe thead th {\n        text-align: right;\n    }\n</style>\n<table border=\"1\" class=\"dataframe\">\n  <thead>\n    <tr style=\"text-align: right;\">\n      <th></th>\n      <th>question</th>\n      <th>possible_answers</th>\n      <th>correct_answer</th>\n      <th>context</th>\n    </tr>\n  </thead>\n  <tbody>\n    <tr>\n      <th>Q_2</th>\n      <td>What was the name of the largest wildfire reco...</td>\n      <td>[Beauregard Blaze, Merryville Inferno, Singer ...</td>\n      <td>3</td>\n      <td>### Article: 2023 Louisiana wildfires.\\n### Se...</td>\n    </tr>\n    <tr>\n      <th>Q_3</th>\n      <td>Which Parish received an assistance grant from...</td>\n      <td>[Caddo Parish, Beauregard Parish, Livingston P...</td>\n      <td>1</td>\n      <td>### Article: 2023 Louisiana wildfires.\\n### Se...</td>\n    </tr>\n    <tr>\n      <th>Q_4</th>\n      <td>What was the cause of the 2023 Louisiana wildf...</td>\n      <td>[Lightning, Arson, Electrical fault, Accidenta...</td>\n      <td>1</td>\n      <td>### Article: 2023 Louisiana wildfires.\\n### Se...</td>\n    </tr>\n    <tr>\n      <th>Q_5</th>\n      <td>On what date was the Tiger Island fire in 2023...</td>\n      <td>[August 22, August 25, August 27, August 29]</td>\n      <td>2</td>\n      <td>### Article: 2023 Louisiana wildfires.\\n### Se...</td>\n    </tr>\n    <tr>\n      <th>Q_8</th>\n      <td>What percentage of the Tiger Island fire was c...</td>\n      <td>[45%, 55%, 65%, 75%]</td>\n      <td>2</td>\n      <td>### Article: 2023 Louisiana wildfires.\\n### Se...</td>\n    </tr>\n    <tr>\n      <th>...</th>\n      <td>...</td>\n      <td>...</td>\n      <td>...</td>\n      <td>...</td>\n    </tr>\n    <tr>\n      <th>Q_3741</th>\n      <td>Which newly created district in the 2023 Virgi...</td>\n      <td>[District 1, District 3, District 10, District...</td>\n      <td>1</td>\n      <td>### Article: 2023 Virginia Senate election.\\n#...</td>\n    </tr>\n    <tr>\n      <th>Q_3744</th>\n      <td>In which year was Jen Kiggans first elected to...</td>\n      <td>[2017, 2018, 2019, 2020]</td>\n      <td>2</td>\n      <td>### Article: 2023 Virginia Senate election.\\n#...</td>\n    </tr>\n    <tr>\n      <th>Q_3745</th>\n      <td>What position did Jen Kiggans resign from to b...</td>\n      <td>[Virginia State Senator, Virginia Governor, U....</td>\n      <td>0</td>\n      <td>### Article: 2023 Virginia Senate election.\\n#...</td>\n    </tr>\n    <tr>\n      <th>Q_3748</th>\n      <td>In what year was Jennifer McClellan first elec...</td>\n      <td>[2015, 2016, 2017, 2018]</td>\n      <td>2</td>\n      <td>### Article: 2023 Virginia Senate election.\\n#...</td>\n    </tr>\n    <tr>\n      <th>Q_3750</th>\n      <td>Who won the special election for Virginia Sena...</td>\n      <td>[Jennifer McClellan, Lamont Bagby, A Republica...</td>\n      <td>1</td>\n      <td>### Article: 2023 Virginia Senate election.\\n#...</td>\n    </tr>\n  </tbody>\n</table>\n<p>1496 rows × 4 columns</p>\n</div>"
     },
     "execution_count": 45,
     "metadata": {},
     "output_type": "execute_result"
    }
   ],
   "source": [
    "updated_dataset"
   ],
   "metadata": {
    "collapsed": false,
    "ExecuteTime": {
     "end_time": "2023-11-28T14:16:14.252385600Z",
     "start_time": "2023-11-28T14:16:14.251376Z"
    }
   }
  },
  {
   "cell_type": "code",
   "execution_count": 46,
   "outputs": [],
   "source": [
    "def clean_correct_answers(x):\n",
    "    try:\n",
    "        return int(x)\n",
    "    except:\n",
    "        return None\n",
    "updated_dataset.correct_answer = updated_dataset.correct_answer.apply(lambda x: clean_correct_answers(x))\n",
    "updated_dataset.dropna(inplace=True)"
   ],
   "metadata": {
    "collapsed": false,
    "ExecuteTime": {
     "end_time": "2023-11-28T14:16:56.774645700Z",
     "start_time": "2023-11-28T14:16:56.774645700Z"
    }
   }
  },
  {
   "cell_type": "code",
   "execution_count": 57,
   "outputs": [],
   "source": [
    "# dumb heuristic to remove contexts with no information\n",
    "updated_dataset = updated_dataset[updated_dataset.context.apply(lambda x: len(x.split())>100)]\n",
    "updated_dataset = updated_dataset.reset_index().rename(columns={'index': 'orig_question_num', 'context': 'text'})"
   ],
   "metadata": {
    "collapsed": false,
    "ExecuteTime": {
     "end_time": "2023-11-28T14:31:08.721776900Z",
     "start_time": "2023-11-28T14:31:08.721776900Z"
    }
   }
  },
  {
   "cell_type": "code",
   "execution_count": 58,
   "outputs": [],
   "source": [
    "updated_dataset.to_csv('../../data/current_events_questions_updated.csv', index=False)"
   ],
   "metadata": {
    "collapsed": false,
    "ExecuteTime": {
     "end_time": "2023-11-28T14:31:16.706497Z",
     "start_time": "2023-11-28T14:31:16.690887800Z"
    }
   }
  }
 ],
 "metadata": {
  "kernelspec": {
   "display_name": ".venv",
   "language": "python",
   "name": "python3"
  },
  "language_info": {
   "codemirror_mode": {
    "name": "ipython",
    "version": 3
   },
   "file_extension": ".py",
   "mimetype": "text/x-python",
   "name": "python",
   "nbconvert_exporter": "python",
   "pygments_lexer": "ipython3",
   "version": "3.10.12"
  }
 },
 "nbformat": 4,
 "nbformat_minor": 2
}
